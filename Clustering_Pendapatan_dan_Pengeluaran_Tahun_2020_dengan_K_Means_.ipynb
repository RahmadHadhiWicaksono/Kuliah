{
  "nbformat": 4,
  "nbformat_minor": 0,
  "metadata": {
    "colab": {
      "name": "Clustering_Pendapatan_dan_Pengeluaran_Tahun_2020_dengan_K-Means_.ipynb",
      "provenance": [],
      "collapsed_sections": [],
      "authorship_tag": "ABX9TyNvBE3J1T5AvoqLP7iGyFuu",
      "include_colab_link": true
    },
    "kernelspec": {
      "name": "python3",
      "display_name": "Python 3"
    },
    "language_info": {
      "name": "python"
    }
  },
  "cells": [
    {
      "cell_type": "markdown",
      "metadata": {
        "id": "view-in-github",
        "colab_type": "text"
      },
      "source": [
        "<a href=\"https://colab.research.google.com/github/RahmadHadhiWicaksono/Kuliah/blob/main/Clustering_Pendapatan_dan_Pengeluaran_Tahun_2020_dengan_K_Means_.ipynb\" target=\"_parent\"><img src=\"https://colab.research.google.com/assets/colab-badge.svg\" alt=\"Open In Colab\"/></a>"
      ]
    },
    {
      "cell_type": "code",
      "metadata": {
        "id": "c5x5BEm9t5-J"
      },
      "source": [
        "import numpy as np\n",
        "import pandas as pd\n",
        "from sklearn.cluster import KMeans\n",
        "import matplotlib.pyplot as plt"
      ],
      "execution_count": 3,
      "outputs": []
    },
    {
      "cell_type": "code",
      "metadata": {
        "colab": {
          "base_uri": "https://localhost:8080/"
        },
        "id": "I_EX6qkwuNIM",
        "outputId": "4f928760-c6d2-48a3-ec60-5defb0e45c90"
      },
      "source": [
        " dataset = pd.read_csv('PengeluaranXPendapatan_2020.csv')\n",
        " dataset.keys()"
      ],
      "execution_count": 2,
      "outputs": [
        {
          "output_type": "execute_result",
          "data": {
            "text/plain": [
              "Index(['Pendapatan', 'Pengeluaran'], dtype='object')"
            ]
          },
          "metadata": {
            "tags": []
          },
          "execution_count": 2
        }
      ]
    },
    {
      "cell_type": "code",
      "metadata": {
        "colab": {
          "base_uri": "https://localhost:8080/",
          "height": 204
        },
        "id": "_dOI0VAiuWly",
        "outputId": "a979b7de-d841-4917-bf59-b6837921a7a7"
      },
      "source": [
        "dataRes = pd.DataFrame(dataset)\n",
        "dataRes.head()"
      ],
      "execution_count": 4,
      "outputs": [
        {
          "output_type": "execute_result",
          "data": {
            "text/html": [
              "<div>\n",
              "<style scoped>\n",
              "    .dataframe tbody tr th:only-of-type {\n",
              "        vertical-align: middle;\n",
              "    }\n",
              "\n",
              "    .dataframe tbody tr th {\n",
              "        vertical-align: top;\n",
              "    }\n",
              "\n",
              "    .dataframe thead th {\n",
              "        text-align: right;\n",
              "    }\n",
              "</style>\n",
              "<table border=\"1\" class=\"dataframe\">\n",
              "  <thead>\n",
              "    <tr style=\"text-align: right;\">\n",
              "      <th></th>\n",
              "      <th>Pendapatan</th>\n",
              "      <th>Pengeluaran</th>\n",
              "    </tr>\n",
              "  </thead>\n",
              "  <tbody>\n",
              "    <tr>\n",
              "      <th>0</th>\n",
              "      <td>1880</td>\n",
              "      <td>1552</td>\n",
              "    </tr>\n",
              "    <tr>\n",
              "      <th>1</th>\n",
              "      <td>1774</td>\n",
              "      <td>1445</td>\n",
              "    </tr>\n",
              "    <tr>\n",
              "      <th>2</th>\n",
              "      <td>2021</td>\n",
              "      <td>1460</td>\n",
              "    </tr>\n",
              "    <tr>\n",
              "      <th>3</th>\n",
              "      <td>1990</td>\n",
              "      <td>1900</td>\n",
              "    </tr>\n",
              "    <tr>\n",
              "      <th>4</th>\n",
              "      <td>1578</td>\n",
              "      <td>1785</td>\n",
              "    </tr>\n",
              "  </tbody>\n",
              "</table>\n",
              "</div>"
            ],
            "text/plain": [
              "   Pendapatan  Pengeluaran\n",
              "0        1880         1552\n",
              "1        1774         1445\n",
              "2        2021         1460\n",
              "3        1990         1900\n",
              "4        1578         1785"
            ]
          },
          "metadata": {
            "tags": []
          },
          "execution_count": 4
        }
      ]
    },
    {
      "cell_type": "code",
      "metadata": {
        "colab": {
          "base_uri": "https://localhost:8080/"
        },
        "id": "rmk5tdFOubb0",
        "outputId": "c1f1861e-176a-4fd3-9dd1-e130e7db8dc4"
      },
      "source": [
        "X = np.asarray(dataset)\n",
        "print(X)"
      ],
      "execution_count": 5,
      "outputs": [
        {
          "output_type": "stream",
          "text": [
            "[[1880 1552]\n",
            " [1774 1445]\n",
            " [2021 1460]\n",
            " [1990 1900]\n",
            " [1578 1785]\n",
            " [1654 2103]\n",
            " [1554 1446]\n",
            " [1784 1245]\n",
            " [2005 1835]\n",
            " [1995 1477]\n",
            " [1456 1652]\n",
            " [1555 1450]]\n"
          ],
          "name": "stdout"
        }
      ]
    },
    {
      "cell_type": "code",
      "metadata": {
        "colab": {
          "base_uri": "https://localhost:8080/",
          "height": 295
        },
        "id": "xcd_DS2FufS6",
        "outputId": "14188a2a-a66b-442d-8315-695d1d9251e6"
      },
      "source": [
        "plt.scatter(X[: ,0], X[:,1],label='true position')\n",
        "plt.xlabel(\"pendapatan\")\n",
        "plt.ylabel(\"Pengeluaran\")\n",
        "plt.title(\"Grafik penyebaran data pendapatan dan pengeluaran tahun 2020\")\n",
        "plt.show()"
      ],
      "execution_count": 8,
      "outputs": [
        {
          "output_type": "display_data",
          "data": {
            "image/png": "[encoded data removed]",
            "text/plain": [
              "<Figure size 432x288 with 1 Axes>"
            ]
          },
          "metadata": {
            "tags": [],
            "needs_background": "light"
          }
        }
      ]
    },
    {
      "cell_type": "code",
      "metadata": {
        "colab": {
          "base_uri": "https://localhost:8080/"
        },
        "id": "VTTkbUWTuu7z",
        "outputId": "f798dcfd-99d7-404b-b4b3-e1899625606f"
      },
      "source": [
        "Kmeans = KMeans(n_clusters=2)\n",
        "Kmeans.fit(X)"
      ],
      "execution_count": 9,
      "outputs": [
        {
          "output_type": "execute_result",
          "data": {
            "text/plain": [
              "KMeans(algorithm='auto', copy_x=True, init='k-means++', max_iter=300,\n",
              "       n_clusters=2, n_init=10, n_jobs=None, precompute_distances='auto',\n",
              "       random_state=None, tol=0.0001, verbose=0)"
            ]
          },
          "metadata": {
            "tags": []
          },
          "execution_count": 9
        }
      ]
    },
    {
      "cell_type": "code",
      "metadata": {
        "colab": {
          "base_uri": "https://localhost:8080/"
        },
        "id": "HvbZKX4cuw_i",
        "outputId": "3a6f906d-858f-4fdf-d746-b1abbe26e8c9"
      },
      "source": [
        "print (Kmeans.cluster_centers_)"
      ],
      "execution_count": 10,
      "outputs": [
        {
          "output_type": "stream",
          "text": [
            "[[1806.75  1905.75 ]\n",
            " [1752.375 1465.875]]\n"
          ],
          "name": "stdout"
        }
      ]
    },
    {
      "cell_type": "code",
      "metadata": {
        "colab": {
          "base_uri": "https://localhost:8080/",
          "height": 295
        },
        "id": "tVYmsEIRuyJj",
        "outputId": "cac20d97-6679-4ac7-9358-73e39b560773"
      },
      "source": [
        "plt.scatter(X[:,0], X[:,1], c=Kmeans.labels_, cmap='rainbow')\n",
        "plt.xlabel(\"Pendapatan\")\n",
        "plt.ylabel(\"Pengeluaran\")\n",
        "plt.title(\"Grafik penyebaran data pendapatan dan pengeluaran tahun 2020\")\n",
        "plt.show()"
      ],
      "execution_count": 12,
      "outputs": [
        {
          "output_type": "display_data",
          "data": {
            "image/png": "[encoded data removed]",
            "text/plain": [
              "<Figure size 432x288 with 1 Axes>"
            ]
          },
          "metadata": {
            "tags": [],
            "needs_background": "light"
          }
        }
      ]
    },
    {
      "cell_type": "code",
      "metadata": {
        "colab": {
          "base_uri": "https://localhost:8080/",
          "height": 295
        },
        "id": "2p62-iNvu866",
        "outputId": "3e21a152-6cb8-478d-91f5-4423fee80fe4"
      },
      "source": [
        "plt.scatter(X[:,0], X[:,1], c=Kmeans.labels_, cmap='rainbow')\n",
        "plt.scatter(Kmeans.cluster_centers_[:,0], Kmeans.cluster_centers_[:,1], color='black')\n",
        "plt.xlabel(\"Pendapatan\")\n",
        "plt.ylabel(\"Pengeluaran\")\n",
        "plt.title(\"Grafik penyebaran data pendapatan dan pengeluaran tahun 2020\")\n",
        "plt.show()"
      ],
      "execution_count": 13,
      "outputs": [
        {
          "output_type": "display_data",
          "data": {
            "image/png": "[encoded data removed]",
            "text/plain": [
              "<Figure size 432x288 with 1 Axes>"
            ]
          },
          "metadata": {
            "tags": [],
            "needs_background": "light"
          }
        }
      ]
    }
  ]
}