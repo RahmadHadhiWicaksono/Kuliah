{
  "nbformat": 4,
  "nbformat_minor": 0,
  "metadata": {
    "colab": {
      "name": "Klasifikasi_data-tenaga-kesejahteraan-sosial-masyarakat_dengan_Decesion_Tree.ipynb",
      "provenance": [],
      "collapsed_sections": [],
      "authorship_tag": "ABX9TyPwbc9JVsQBJL/VNHt+rNek",
      "include_colab_link": true
    },
    "kernelspec": {
      "name": "python3",
      "display_name": "Python 3"
    },
    "language_info": {
      "name": "python"
    }
  },
  "cells": [
    {
      "cell_type": "markdown",
      "metadata": {
        "id": "view-in-github",
        "colab_type": "text"
      },
      "source": [
        "<a href=\"https://colab.research.google.com/github/RahmadHadhiWicaksono/Kuliah/blob/main/Klasifikasi_data_tenaga_kesejahteraan_sosial_masyarakat_dengan_Decesion_Tree.ipynb\" target=\"_parent\"><img src=\"https://colab.research.google.com/assets/colab-badge.svg\" alt=\"Open In Colab\"/></a>"
      ]
    },
    {
      "cell_type": "code",
      "metadata": {
        "id": "nCKsgg2SSEPx"
      },
      "source": [
        "import numpy as np\n",
        "import pandas as pd\n",
        "from sklearn import tree"
      ],
      "execution_count": 35,
      "outputs": []
    },
    {
      "cell_type": "code",
      "metadata": {
        "id": "4FbJWlilSFwg"
      },
      "source": [
        "DataSet = pd.read_csv('data-tenaga-kesejahteraan-sosial-masyarakat.csv',delimiter=',', header =0)\n",
        "DataSet[\"keterangan\"] = pd.factorize(DataSet.keterangan)[0]"
      ],
      "execution_count": 36,
      "outputs": []
    },
    {
      "cell_type": "code",
      "metadata": {
        "id": "44P-_9pBUgCm"
      },
      "source": [
        "DataSet = DataSet.drop(labels=\"nama\", axis=1)\n",
        "DataSet = DataSet.drop(labels=\"kecamatan\", axis=1)\n",
        "DataSet = DataSet.drop(labels=\"kabupaten\", axis=1)\n",
        "DataSet = DataSet.to_numpy()\n"
      ],
      "execution_count": 37,
      "outputs": []
    },
    {
      "cell_type": "code",
      "metadata": {
        "colab": {
          "base_uri": "https://localhost:8080/"
        },
        "id": "GvQGcnigTXic",
        "outputId": "8548e03b-ea8c-40b1-84ce-9150c31b328b"
      },
      "source": [
        "print(DataSet)"
      ],
      "execution_count": 38,
      "outputs": [
        {
          "output_type": "stream",
          "text": [
            "[[  25 3000    0]\n",
            " [  30 2500    1]\n",
            " [  35 5000    1]\n",
            " [  33 5500    1]\n",
            " [  21 3050    1]\n",
            " [  26 5500    0]\n",
            " [  28 2500    1]\n",
            " [  27 5500    1]\n",
            " [  24 5500    1]\n",
            " [  26 3050    0]\n",
            " [  23 2500    0]\n",
            " [  31 5000    0]\n",
            " [  33 5500    0]\n",
            " [  36 2500    1]\n",
            " [  41 3050    1]\n",
            " [  51 5500    0]\n",
            " [  22 2500    0]\n",
            " [  41 5500    1]\n",
            " [  44 5000    0]\n",
            " [  39 5500    0]\n",
            " [  36 2500    1]\n",
            " [  33 3050    0]\n",
            " [  37 5500    1]\n",
            " [  34 5000    1]\n",
            " [  31 5500    1]\n",
            " [  28 2500    0]\n",
            " [  29 3050    1]\n",
            " [  26 5000    1]\n",
            " [  25 5500    1]\n",
            " [  24 3050    0]\n",
            " [  50 5500    0]\n",
            " [  27 3050    0]\n",
            " [  25 2500    0]\n",
            " [  41 5500    0]\n",
            " [  44 5000    1]\n",
            " [  39 5500    1]\n",
            " [  36 3050    0]\n",
            " [  33 3050    0]\n",
            " [  37 5500    0]\n",
            " [  34 2500    1]\n",
            " [  24 3050    0]\n",
            " [  26 2500    1]\n",
            " [  23 5000    1]\n",
            " [  31 3050    0]]\n"
          ],
          "name": "stdout"
        }
      ]
    },
    {
      "cell_type": "code",
      "metadata": {
        "id": "iYufFU-wTuBU"
      },
      "source": [
        "dataTraining = np.concatenate((DataSet[0:20,:],\n",
        "                              DataSet[25:40,:]),axis = 0)\n",
        "dataTesting = np.concatenate((DataSet[20:25,:],\n",
        "                              DataSet[40:45,:]),axis = 0)"
      ],
      "execution_count": 39,
      "outputs": []
    },
    {
      "cell_type": "code",
      "metadata": {
        "id": "UdEaDqD8WZWQ"
      },
      "source": [
        "inputTraining = dataTraining[:,0:2]\n",
        "inputTesting = dataTesting[:,0:2]\n",
        "labelTraining = dataTraining[:,2]\n",
        "labelTesting = dataTesting[:,2]"
      ],
      "execution_count": 42,
      "outputs": []
    },
    {
      "cell_type": "code",
      "metadata": {
        "colab": {
          "base_uri": "https://localhost:8080/"
        },
        "id": "STZwLyU9Wk1o",
        "outputId": "dc4f1646-f4d3-4c37-edc1-68b03a3f63ed"
      },
      "source": [
        "model = tree.DecisionTreeClassifier()\n",
        "#mentrail model\n",
        "model = model.fit(inputTraining, labelTraining)\n",
        "#memprediksikan imput data testing\n",
        "hasilPrediksi = model.predict(inputTesting)\n",
        "print(\"label sebenarnya\",labelTesting)\n",
        "print(\"hasil prediksi: \",hasilPrediksi)\n",
        "#menghitung akurasi\n",
        "prediksiBenar = (hasilPrediksi == labelTesting).sum()\n",
        "prediksiSalah = (hasilPrediksi != labelTesting).sum()\n",
        "print(\"Prediksi benar:\",prediksiBenar,\"data\")\n",
        "print(\"Prediksi salah:\",prediksiSalah,\"data\")\n",
        "print(\"akurasi: \",prediksiBenar/(prediksiBenar+prediksiSalah)*100,\"%\")"
      ],
      "execution_count": 43,
      "outputs": [
        {
          "output_type": "stream",
          "text": [
            "label sebenarnya [1 0 1 1 1 0 1 1 0]\n",
            "hasil prediksi:  [1 0 0 1 0 0 0 0 1]\n",
            "Prediksi benar: 4 data\n",
            "Prediksi salah: 5 data\n",
            "akurasi:  44.44444444444444 %\n"
          ],
          "name": "stdout"
        }
      ]
    }
  ]
}