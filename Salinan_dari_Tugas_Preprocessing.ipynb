{
  "nbformat": 4,
  "nbformat_minor": 0,
  "metadata": {
    "colab": {
      "name": "Salinan dari Tugas Preprocessing.ipynb",
      "provenance": [],
      "collapsed_sections": [],
      "include_colab_link": true
    },
    "kernelspec": {
      "name": "python3",
      "display_name": "Python 3"
    }
  },
  "cells": [
    {
      "cell_type": "markdown",
      "metadata": {
        "id": "view-in-github",
        "colab_type": "text"
      },
      "source": [
        "<a href=\"https://colab.research.google.com/github/RahmadHadhiWicaksono/Kuliah/blob/main/Salinan_dari_Tugas_Preprocessing.ipynb\" target=\"_parent\"><img src=\"https://colab.research.google.com/assets/colab-badge.svg\" alt=\"Open In Colab\"/></a>"
      ]
    },
    {
      "cell_type": "code",
      "metadata": {
        "id": "rpVXlHDmOxv5"
      },
      "source": [
        "import numpy as np\r\n",
        "import matplotlib.pyplot as plt\r\n",
        "import pandas as pd"
      ],
      "execution_count": null,
      "outputs": []
    },
    {
      "cell_type": "code",
      "metadata": {
        "id": "IwemBoxLPnd5"
      },
      "source": [
        "dataset = pd.read_csv('DataMHS.csv')\r\n",
        "x = dataset.iloc[:, :-1].values\r\n",
        "y = dataset.iloc[:,-1].values"
      ],
      "execution_count": null,
      "outputs": []
    },
    {
      "cell_type": "code",
      "metadata": {
        "colab": {
          "base_uri": "https://localhost:8080/"
        },
        "id": "tmnNkVwtRgRB",
        "outputId": "b6c98850-19c6-4adc-df6e-d1aa72191dd2"
      },
      "source": [
        "print(x)"
      ],
      "execution_count": null,
      "outputs": [
        {
          "output_type": "stream",
          "text": [
            "[['PEREMPUAN' 28.0 3.07]\n",
            " ['PEREMPUAN' 32.0 3.17]\n",
            " ['PEREMPUAN' 29.0 3.54]\n",
            " ['PEREMPUAN' 27.0 3.41]\n",
            " ['PEREMPUAN' 29.0 3.09]\n",
            " ['LAKI - LAKI' 27.0 3.07]\n",
            " ['PEREMPUAN' 26.0 3.06]\n",
            " ['PEREMPUAN' 27.0 2.91]\n",
            " ['PEREMPUAN' 25.0 nan]\n",
            " ['PEREMPUAN' 28.0 2.2]\n",
            " ['PEREMPUAN' 27.0 3.44]\n",
            " ['PEREMPUAN' 32.0 2.4]\n",
            " ['PEREMPUAN' 26.0 2.45]\n",
            " ['PEREMPUAN' 31.0 2.57]\n",
            " ['PEREMPUAN' 26.0 nan]\n",
            " ['LAKI - LAKI' 27.0 3.04]\n",
            " ['PEREMPUAN' 27.0 3.19]\n",
            " ['LAKI - LAKI' nan 2.95]\n",
            " ['LAKI - LAKI' 27.0 2.11]\n",
            " ['LAKI - LAKI' 27.0 3.38]\n",
            " ['LAKI - LAKI' 28.0 3.29]\n",
            " ['LAKI - LAKI' 26.0 3.19]\n",
            " ['LAKI - LAKI' 26.0 3.11]\n",
            " ['LAKI - LAKI' 29.0 3.2]\n",
            " ['LAKI - LAKI' 25.0 3.09]\n",
            " ['LAKI - LAKI' 30.0 nan]\n",
            " ['LAKI - LAKI' 32.0 2.32]\n",
            " ['PEREMPUAN' 27.0 3.23]\n",
            " ['LAKI - LAKI' 27.0 3.52]\n",
            " ['LAKI - LAKI' 25.0 3.25]\n",
            " ['LAKI - LAKI' 32.0 2.86]\n",
            " ['LAKI - LAKI' 27.0 3.07]\n",
            " ['LAKI - LAKI' 25.0 3.07]\n",
            " ['LAKI - LAKI' 28.0 3.24]\n",
            " ['LAKI - LAKI' 32.0 3.2]\n",
            " ['PEREMPUAN' 27.0 3.15]\n",
            " ['PEREMPUAN' 32.0 3.36]\n",
            " ['PEREMPUAN' 27.0 3.6]\n",
            " ['LAKI - LAKI' 30.0 2.63]\n",
            " ['LAKI - LAKI' 26.0 3.39]\n",
            " ['LAKI - LAKI' 29.0 nan]\n",
            " ['LAKI - LAKI' 27.0 2.63]\n",
            " ['PEREMPUAN' 32.0 3.63]\n",
            " ['LAKI - LAKI' 27.0 3.59]\n",
            " ['LAKI - LAKI' 26.0 3.64]\n",
            " ['PEREMPUAN' 29.0 3.8]\n",
            " ['PEREMPUAN' 42.0 2.75]\n",
            " ['PEREMPUAN' nan 3.69]\n",
            " ['LAKI - LAKI' 25.0 3.37]\n",
            " ['LAKI - LAKI' 25.0 2.89]]\n"
          ],
          "name": "stdout"
        }
      ]
    },
    {
      "cell_type": "code",
      "metadata": {
        "id": "mME-W1hjfR2r",
        "colab": {
          "base_uri": "https://localhost:8080/"
        },
        "outputId": "5a3ab795-5fe8-49dc-99e7-bf0b65aacdd2"
      },
      "source": [
        "print(y)"
      ],
      "execution_count": null,
      "outputs": [
        {
          "output_type": "stream",
          "text": [
            "['TERLAMBAT' 'TERLAMBAT' 'TERLAMBAT' 'TERLAMBAT' 'TERLAMBAT' 'TERLAMBAT'\n",
            " 'TEPAT' 'TEPAT' 'TERLAMBAT' 'TERLAMBAT' 'TERLAMBAT' 'TERLAMBAT'\n",
            " 'TERLAMBAT' 'TERLAMBAT' 'TERLAMBAT' 'TERLAMBAT' 'TERLAMBAT' 'TERLAMBAT'\n",
            " 'TERLAMBAT' 'TEPAT' 'TERLAMBAT' 'TERLAMBAT' 'TERLAMBAT' 'TERLAMBAT'\n",
            " 'TERLAMBAT' 'TERLAMBAT' 'TERLAMBAT' 'TERLAMBAT' 'TEPAT' 'TEPAT' 'TEPAT'\n",
            " 'TEPAT' 'TEPAT' 'TEPAT' 'TEPAT' 'TEPAT' 'TEPAT' 'TEPAT' 'TEPAT' 'TEPAT'\n",
            " 'TEPAT' 'TEPAT' 'TEPAT' 'TEPAT' 'TEPAT' 'TEPAT' 'TEPAT' 'TEPAT' 'TEPAT'\n",
            " 'TEPAT']\n"
          ],
          "name": "stdout"
        }
      ]
    },
    {
      "cell_type": "code",
      "metadata": {
        "id": "2wcMGSsARrPp"
      },
      "source": [
        "from sklearn.impute import SimpleImputer\r\n",
        "imputer = SimpleImputer(missing_values=np.nan, strategy='mean')\r\n",
        "imputer.fit(x[:, 2:3])\r\n",
        "x[:,2:3] = imputer.transform(x[:, 2:3])"
      ],
      "execution_count": null,
      "outputs": []
    },
    {
      "cell_type": "code",
      "metadata": {
        "colab": {
          "base_uri": "https://localhost:8080/"
        },
        "id": "nRYOty4ZW7vk",
        "outputId": "f5876c1a-34ef-480c-9dd0-1c3cb67a09ae"
      },
      "source": [
        "print(x)"
      ],
      "execution_count": null,
      "outputs": [
        {
          "output_type": "stream",
          "text": [
            "[['PEREMPUAN' 28.0 3.07]\n",
            " ['PEREMPUAN' 32.0 3.17]\n",
            " ['PEREMPUAN' 29.0 3.54]\n",
            " ['PEREMPUAN' 27.0 3.41]\n",
            " ['PEREMPUAN' 29.0 3.09]\n",
            " ['LAKI - LAKI' 27.0 3.07]\n",
            " ['PEREMPUAN' 26.0 3.06]\n",
            " ['PEREMPUAN' 27.0 2.91]\n",
            " ['PEREMPUAN' 25.0 3.1045652173913045]\n",
            " ['PEREMPUAN' 28.0 2.2]\n",
            " ['PEREMPUAN' 27.0 3.44]\n",
            " ['PEREMPUAN' 32.0 2.4]\n",
            " ['PEREMPUAN' 26.0 2.45]\n",
            " ['PEREMPUAN' 31.0 2.57]\n",
            " ['PEREMPUAN' 26.0 3.1045652173913045]\n",
            " ['LAKI - LAKI' 27.0 3.04]\n",
            " ['PEREMPUAN' 27.0 3.19]\n",
            " ['LAKI - LAKI' nan 2.95]\n",
            " ['LAKI - LAKI' 27.0 2.11]\n",
            " ['LAKI - LAKI' 27.0 3.38]\n",
            " ['LAKI - LAKI' 28.0 3.29]\n",
            " ['LAKI - LAKI' 26.0 3.19]\n",
            " ['LAKI - LAKI' 26.0 3.11]\n",
            " ['LAKI - LAKI' 29.0 3.2]\n",
            " ['LAKI - LAKI' 25.0 3.09]\n",
            " ['LAKI - LAKI' 30.0 3.1045652173913045]\n",
            " ['LAKI - LAKI' 32.0 2.32]\n",
            " ['PEREMPUAN' 27.0 3.23]\n",
            " ['LAKI - LAKI' 27.0 3.52]\n",
            " ['LAKI - LAKI' 25.0 3.25]\n",
            " ['LAKI - LAKI' 32.0 2.86]\n",
            " ['LAKI - LAKI' 27.0 3.07]\n",
            " ['LAKI - LAKI' 25.0 3.07]\n",
            " ['LAKI - LAKI' 28.0 3.24]\n",
            " ['LAKI - LAKI' 32.0 3.2]\n",
            " ['PEREMPUAN' 27.0 3.15]\n",
            " ['PEREMPUAN' 32.0 3.36]\n",
            " ['PEREMPUAN' 27.0 3.6]\n",
            " ['LAKI - LAKI' 30.0 2.63]\n",
            " ['LAKI - LAKI' 26.0 3.39]\n",
            " ['LAKI - LAKI' 29.0 3.1045652173913045]\n",
            " ['LAKI - LAKI' 27.0 2.63]\n",
            " ['PEREMPUAN' 32.0 3.63]\n",
            " ['LAKI - LAKI' 27.0 3.59]\n",
            " ['LAKI - LAKI' 26.0 3.64]\n",
            " ['PEREMPUAN' 29.0 3.8]\n",
            " ['PEREMPUAN' 42.0 2.75]\n",
            " ['PEREMPUAN' nan 3.69]\n",
            " ['LAKI - LAKI' 25.0 3.37]\n",
            " ['LAKI - LAKI' 25.0 2.89]]\n"
          ],
          "name": "stdout"
        }
      ]
    },
    {
      "cell_type": "code",
      "metadata": {
        "id": "g4W01i65YHN7"
      },
      "source": [
        "from sklearn.compose import ColumnTransformer\r\n",
        "from sklearn.preprocessing import OneHotEncoder\r\n",
        "ct = ColumnTransformer(transformers=[('encoder',OneHotEncoder(), [0])], remainder='passthrough')\r\n",
        "x = np.array(ct.fit_transform(x))\r\n"
      ],
      "execution_count": null,
      "outputs": []
    },
    {
      "cell_type": "code",
      "metadata": {
        "colab": {
          "base_uri": "https://localhost:8080/"
        },
        "id": "VGsmPrNoZqZz",
        "outputId": "0eaf2c4a-26f4-4ee6-9d6e-7519f59968b9"
      },
      "source": [
        "print(x)"
      ],
      "execution_count": null,
      "outputs": [
        {
          "output_type": "stream",
          "text": [
            "[[0.0 1.0 28.0 3.07]\n",
            " [0.0 1.0 32.0 3.17]\n",
            " [0.0 1.0 29.0 3.54]\n",
            " [0.0 1.0 27.0 3.41]\n",
            " [0.0 1.0 29.0 3.09]\n",
            " [1.0 0.0 27.0 3.07]\n",
            " [0.0 1.0 26.0 3.06]\n",
            " [0.0 1.0 27.0 2.91]\n",
            " [0.0 1.0 25.0 3.1045652173913045]\n",
            " [0.0 1.0 28.0 2.2]\n",
            " [0.0 1.0 27.0 3.44]\n",
            " [0.0 1.0 32.0 2.4]\n",
            " [0.0 1.0 26.0 2.45]\n",
            " [0.0 1.0 31.0 2.57]\n",
            " [0.0 1.0 26.0 3.1045652173913045]\n",
            " [1.0 0.0 27.0 3.04]\n",
            " [0.0 1.0 27.0 3.19]\n",
            " [1.0 0.0 nan 2.95]\n",
            " [1.0 0.0 27.0 2.11]\n",
            " [1.0 0.0 27.0 3.38]\n",
            " [1.0 0.0 28.0 3.29]\n",
            " [1.0 0.0 26.0 3.19]\n",
            " [1.0 0.0 26.0 3.11]\n",
            " [1.0 0.0 29.0 3.2]\n",
            " [1.0 0.0 25.0 3.09]\n",
            " [1.0 0.0 30.0 3.1045652173913045]\n",
            " [1.0 0.0 32.0 2.32]\n",
            " [0.0 1.0 27.0 3.23]\n",
            " [1.0 0.0 27.0 3.52]\n",
            " [1.0 0.0 25.0 3.25]\n",
            " [1.0 0.0 32.0 2.86]\n",
            " [1.0 0.0 27.0 3.07]\n",
            " [1.0 0.0 25.0 3.07]\n",
            " [1.0 0.0 28.0 3.24]\n",
            " [1.0 0.0 32.0 3.2]\n",
            " [0.0 1.0 27.0 3.15]\n",
            " [0.0 1.0 32.0 3.36]\n",
            " [0.0 1.0 27.0 3.6]\n",
            " [1.0 0.0 30.0 2.63]\n",
            " [1.0 0.0 26.0 3.39]\n",
            " [1.0 0.0 29.0 3.1045652173913045]\n",
            " [1.0 0.0 27.0 2.63]\n",
            " [0.0 1.0 32.0 3.63]\n",
            " [1.0 0.0 27.0 3.59]\n",
            " [1.0 0.0 26.0 3.64]\n",
            " [0.0 1.0 29.0 3.8]\n",
            " [0.0 1.0 42.0 2.75]\n",
            " [0.0 1.0 nan 3.69]\n",
            " [1.0 0.0 25.0 3.37]\n",
            " [1.0 0.0 25.0 2.89]]\n"
          ],
          "name": "stdout"
        }
      ]
    },
    {
      "cell_type": "code",
      "metadata": {
        "id": "i8pFW8oDbaxU"
      },
      "source": [
        "from sklearn.preprocessing import LabelEncoder\r\n",
        "le = LabelEncoder()\r\n",
        "y = le.fit_transform(y)"
      ],
      "execution_count": null,
      "outputs": []
    },
    {
      "cell_type": "code",
      "metadata": {
        "id": "cZrGRuBmfb3d",
        "colab": {
          "base_uri": "https://localhost:8080/"
        },
        "outputId": "7e4d1d92-f437-4622-bb80-f81721d2254a"
      },
      "source": [
        "print(y)"
      ],
      "execution_count": null,
      "outputs": [
        {
          "output_type": "stream",
          "text": [
            "[1 1 1 1 1 1 0 0 1 1 1 1 1 1 1 1 1 1 1 0 1 1 1 1 1 1 1 1 0 0 0 0 0 0 0 0 0\n",
            " 0 0 0 0 0 0 0 0 0 0 0 0 0]\n"
          ],
          "name": "stdout"
        }
      ]
    },
    {
      "cell_type": "code",
      "metadata": {
        "id": "xEwhzKd1fpat"
      },
      "source": [
        "from sklearn.model_selection import train_test_split\r\n",
        "x_train, x_test,y_train, y_test = train_test_split(x,y, test_size = 0.2, random_state =1)"
      ],
      "execution_count": null,
      "outputs": []
    },
    {
      "cell_type": "code",
      "metadata": {
        "colab": {
          "base_uri": "https://localhost:8080/"
        },
        "id": "YsBMkJ1Sir2q",
        "outputId": "b16cc500-0f4b-4dae-d2a9-424f29e10018"
      },
      "source": [
        "print(x_train)"
      ],
      "execution_count": null,
      "outputs": [
        {
          "output_type": "stream",
          "text": [
            "[[1.0 0.0 25.0 3.07]\n",
            " [1.0 0.0 26.0 3.39]\n",
            " [1.0 0.0 26.0 3.19]\n",
            " [0.0 1.0 32.0 3.36]\n",
            " [1.0 0.0 27.0 3.38]\n",
            " [0.0 1.0 32.0 3.63]\n",
            " [1.0 0.0 25.0 2.89]\n",
            " [1.0 0.0 32.0 2.32]\n",
            " [1.0 0.0 26.0 3.11]\n",
            " [0.0 1.0 31.0 2.57]\n",
            " [1.0 0.0 27.0 2.63]\n",
            " [1.0 0.0 nan 2.95]\n",
            " [0.0 1.0 29.0 3.8]\n",
            " [1.0 0.0 25.0 3.09]\n",
            " [1.0 0.0 29.0 3.2]\n",
            " [0.0 1.0 29.0 3.09]\n",
            " [1.0 0.0 28.0 3.24]\n",
            " [0.0 1.0 26.0 3.1045652173913045]\n",
            " [1.0 0.0 32.0 2.86]\n",
            " [0.0 1.0 27.0 3.44]\n",
            " [1.0 0.0 27.0 3.52]\n",
            " [1.0 0.0 26.0 3.64]\n",
            " [1.0 0.0 32.0 3.2]\n",
            " [1.0 0.0 27.0 2.11]\n",
            " [1.0 0.0 28.0 3.29]\n",
            " [1.0 0.0 30.0 3.1045652173913045]\n",
            " [0.0 1.0 26.0 3.06]\n",
            " [0.0 1.0 27.0 2.91]\n",
            " [0.0 1.0 nan 3.69]\n",
            " [0.0 1.0 32.0 3.17]\n",
            " [0.0 1.0 27.0 3.19]\n",
            " [0.0 1.0 28.0 3.07]\n",
            " [1.0 0.0 27.0 3.04]\n",
            " [1.0 0.0 27.0 3.07]\n",
            " [0.0 1.0 32.0 2.4]\n",
            " [0.0 1.0 28.0 2.2]\n",
            " [0.0 1.0 25.0 3.1045652173913045]\n",
            " [0.0 1.0 26.0 2.45]\n",
            " [1.0 0.0 27.0 3.59]\n",
            " [0.0 1.0 27.0 3.6]]\n"
          ],
          "name": "stdout"
        }
      ]
    },
    {
      "cell_type": "code",
      "metadata": {
        "colab": {
          "base_uri": "https://localhost:8080/"
        },
        "id": "L4MHBKHSivY6",
        "outputId": "c6e2af9d-93d8-41c4-b0ec-29f98d01d9a9"
      },
      "source": [
        "print(x_test)"
      ],
      "execution_count": null,
      "outputs": [
        {
          "output_type": "stream",
          "text": [
            "[[0.0 1.0 27.0 3.23]\n",
            " [0.0 1.0 27.0 3.15]\n",
            " [1.0 0.0 29.0 3.1045652173913045]\n",
            " [1.0 0.0 30.0 2.63]\n",
            " [0.0 1.0 29.0 3.54]\n",
            " [0.0 1.0 27.0 3.41]\n",
            " [1.0 0.0 25.0 3.37]\n",
            " [1.0 0.0 25.0 3.25]\n",
            " [0.0 1.0 42.0 2.75]\n",
            " [1.0 0.0 27.0 3.07]]\n"
          ],
          "name": "stdout"
        }
      ]
    },
    {
      "cell_type": "code",
      "metadata": {
        "colab": {
          "base_uri": "https://localhost:8080/"
        },
        "id": "8nlWzBT1jBt7",
        "outputId": "dfe22251-7a9e-4dba-e486-1dc46fabda21"
      },
      "source": [
        "print(y_train)"
      ],
      "execution_count": null,
      "outputs": [
        {
          "output_type": "stream",
          "text": [
            "[0 0 1 0 0 0 0 1 1 1 0 1 0 1 1 1 0 1 0 1 0 0 0 1 1 1 0 0 0 1 1 1 1 1 1 1 1\n",
            " 1 0 0]\n"
          ],
          "name": "stdout"
        }
      ]
    },
    {
      "cell_type": "code",
      "metadata": {
        "colab": {
          "base_uri": "https://localhost:8080/"
        },
        "id": "Ide-h8HajKc3",
        "outputId": "9191debf-6176-494b-a4d7-cbeac190d698"
      },
      "source": [
        "print(y_test)"
      ],
      "execution_count": null,
      "outputs": [
        {
          "output_type": "stream",
          "text": [
            "[1 0 0 0 1 1 0 0 0 0]\n"
          ],
          "name": "stdout"
        }
      ]
    },
    {
      "cell_type": "code",
      "metadata": {
        "id": "ZAlsVyVVjZz5"
      },
      "source": [
        "from sklearn.preprocessing import StandardScaler\r\n",
        "sc = StandardScaler()\r\n",
        "x_train[:,3:] = sc.fit_transform(x_train[:,3:])\r\n",
        "x_test[:,3:] = sc.transform(x_test[:,3:])"
      ],
      "execution_count": null,
      "outputs": []
    },
    {
      "cell_type": "code",
      "metadata": {
        "colab": {
          "base_uri": "https://localhost:8080/"
        },
        "id": "1Pi2wNH3kzG7",
        "outputId": "c4a87f4e-b7ff-442d-90ea-1b00f68ce83d"
      },
      "source": [
        "print(x_test)"
      ],
      "execution_count": null,
      "outputs": [
        {
          "output_type": "stream",
          "text": [
            "[[0.0 1.0 27.0 0.3396506972314704]\n",
            " [0.0 1.0 27.0 0.1411806776511739]\n",
            " [1.0 0.0 29.0 0.02846265022649542]\n",
            " [1.0 0.0 30.0 -1.1488744496207521]\n",
            " [0.0 1.0 29.0 1.108722023105119]\n",
            " [0.0 1.0 27.0 0.7862082412871375]\n",
            " [1.0 0.0 25.0 0.6869732314969893]\n",
            " [1.0 0.0 25.0 0.3892682021265445]\n",
            " [0.0 1.0 42.0 -0.8511694202503074]\n",
            " [1.0 0.0 27.0 -0.05728934192912259]]\n"
          ],
          "name": "stdout"
        }
      ]
    },
    {
      "cell_type": "code",
      "metadata": {
        "colab": {
          "base_uri": "https://localhost:8080/"
        },
        "id": "1LcqFbBqk3VL",
        "outputId": "fdb8bedc-c0f9-4b35-e4ca-c0092821e78a"
      },
      "source": [
        "print(x_test)"
      ],
      "execution_count": null,
      "outputs": [
        {
          "output_type": "stream",
          "text": [
            "[[0.0 1.0 27.0 0.3396506972314704]\n",
            " [0.0 1.0 27.0 0.1411806776511739]\n",
            " [1.0 0.0 29.0 0.02846265022649542]\n",
            " [1.0 0.0 30.0 -1.1488744496207521]\n",
            " [0.0 1.0 29.0 1.108722023105119]\n",
            " [0.0 1.0 27.0 0.7862082412871375]\n",
            " [1.0 0.0 25.0 0.6869732314969893]\n",
            " [1.0 0.0 25.0 0.3892682021265445]\n",
            " [0.0 1.0 42.0 -0.8511694202503074]\n",
            " [1.0 0.0 27.0 -0.05728934192912259]]\n"
          ],
          "name": "stdout"
        }
      ]
    }
  ]
}