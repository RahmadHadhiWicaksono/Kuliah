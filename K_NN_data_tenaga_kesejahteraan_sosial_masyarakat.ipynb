{
  "nbformat": 4,
  "nbformat_minor": 0,
  "metadata": {
    "colab": {
      "name": "K-NN_data-tenaga-kesejahteraan-sosial-masyarakat.ipynb",
      "provenance": [],
      "collapsed_sections": [],
      "authorship_tag": "ABX9TyMsQN89VccIg+N8OsUTfJ1B",
      "include_colab_link": true
    },
    "kernelspec": {
      "name": "python3",
      "display_name": "Python 3"
    },
    "language_info": {
      "name": "python"
    }
  },
  "cells": [
    {
      "cell_type": "markdown",
      "metadata": {
        "id": "view-in-github",
        "colab_type": "text"
      },
      "source": [
        "<a href=\"https://colab.research.google.com/github/RahmadHadhiWicaksono/Kuliah/blob/main/K_NN_data_tenaga_kesejahteraan_sosial_masyarakat.ipynb\" target=\"_parent\"><img src=\"https://colab.research.google.com/assets/colab-badge.svg\" alt=\"Open In Colab\"/></a>"
      ]
    },
    {
      "cell_type": "code",
      "metadata": {
        "id": "QyFg4lYnXXns"
      },
      "source": [
        "import numpy as np\n",
        "import matplotlib.pyplot as plt\n",
        "import pandas as pd"
      ],
      "execution_count": 44,
      "outputs": []
    },
    {
      "cell_type": "code",
      "metadata": {
        "id": "hTjuCTwoXgt5"
      },
      "source": [
        "dataset = pd.read_csv('data-tenaga-kesejahteraan-sosial-masyarakat.csv')\n",
        "x = dataset.iloc[:, [2, 3]].values\n",
        "y = dataset.iloc[:, -1].values"
      ],
      "execution_count": 45,
      "outputs": []
    },
    {
      "cell_type": "code",
      "metadata": {
        "colab": {
          "base_uri": "https://localhost:8080/"
        },
        "id": "2HtzRnoRXszY",
        "outputId": "af4a83a9-b04a-49d4-9275-c7f8726a6148"
      },
      "source": [
        "print(x)"
      ],
      "execution_count": 46,
      "outputs": [
        {
          "output_type": "stream",
          "text": [
            "[[  25 3000]\n",
            " [  30 2500]\n",
            " [  35 5000]\n",
            " [  33 5500]\n",
            " [  21 3050]\n",
            " [  26 5500]\n",
            " [  28 2500]\n",
            " [  27 5500]\n",
            " [  24 5500]\n",
            " [  26 3050]\n",
            " [  23 2500]\n",
            " [  31 5000]\n",
            " [  33 5500]\n",
            " [  36 2500]\n",
            " [  41 3050]\n",
            " [  51 5500]\n",
            " [  22 2500]\n",
            " [  41 5500]\n",
            " [  44 5000]\n",
            " [  39 5500]\n",
            " [  36 2500]\n",
            " [  33 3050]\n",
            " [  37 5500]\n",
            " [  34 5000]\n",
            " [  31 5500]\n",
            " [  28 2500]\n",
            " [  29 3050]\n",
            " [  26 5000]\n",
            " [  25 5500]\n",
            " [  24 3050]\n",
            " [  50 5500]\n",
            " [  27 3050]\n",
            " [  25 2500]\n",
            " [  41 5500]\n",
            " [  44 5000]\n",
            " [  39 5500]\n",
            " [  36 3050]\n",
            " [  33 3050]\n",
            " [  37 5500]\n",
            " [  34 2500]\n",
            " [  24 3050]\n",
            " [  26 2500]\n",
            " [  23 5000]\n",
            " [  31 3050]]\n"
          ],
          "name": "stdout"
        }
      ]
    },
    {
      "cell_type": "code",
      "metadata": {
        "colab": {
          "base_uri": "https://localhost:8080/"
        },
        "id": "wbPQemR-XyKM",
        "outputId": "b13c7703-9272-411e-ded1-1d9142e3947f"
      },
      "source": [
        "print (y)"
      ],
      "execution_count": 47,
      "outputs": [
        {
          "output_type": "stream",
          "text": [
            "[1 0 1 1 1 1 1 0 1 0 1 1 1 0 1 1 1 0 1 0 1 1 1 1 1 0 1 1 1 1 1 0 1 1 1 1 0\n",
            " 0 1 1 0 0 0 1]\n"
          ],
          "name": "stdout"
        }
      ]
    },
    {
      "cell_type": "code",
      "metadata": {
        "id": "YLErQ3lIX02g"
      },
      "source": [
        "from sklearn.model_selection import train_test_split\n",
        "x_train, x_test, y_train, y_test = train_test_split(x, y, test_size = 0.25, random_state = 0)"
      ],
      "execution_count": 48,
      "outputs": []
    },
    {
      "cell_type": "code",
      "metadata": {
        "id": "2piM6wAdX3cI"
      },
      "source": [
        "from sklearn.preprocessing import StandardScaler\n",
        "sc= StandardScaler()\n",
        "x_train = sc.fit_transform(x_train)\n",
        "x_test = sc.fit_transform(x_test)"
      ],
      "execution_count": 49,
      "outputs": []
    },
    {
      "cell_type": "code",
      "metadata": {
        "colab": {
          "base_uri": "https://localhost:8080/"
        },
        "id": "2jQSU1crX5eR",
        "outputId": "c829fccd-cf47-45d6-90b4-fa6491fe8d12"
      },
      "source": [
        "from sklearn.neighbors import KNeighborsClassifier\n",
        "classifier = KNeighborsClassifier(n_neighbors = 5, metric = 'hamming', p = 2)\n",
        "classifier.fit(x_train, y_train)"
      ],
      "execution_count": 50,
      "outputs": [
        {
          "output_type": "execute_result",
          "data": {
            "text/plain": [
              "KNeighborsClassifier(algorithm='auto', leaf_size=30, metric='hamming',\n",
              "                     metric_params=None, n_jobs=None, n_neighbors=5, p=2,\n",
              "                     weights='uniform')"
            ]
          },
          "metadata": {
            "tags": []
          },
          "execution_count": 50
        }
      ]
    },
    {
      "cell_type": "code",
      "metadata": {
        "colab": {
          "base_uri": "https://localhost:8080/"
        },
        "id": "5e1_dxBcX7th",
        "outputId": "c33bc310-d394-41c6-f6bd-b81af7efdb05"
      },
      "source": [
        "KNeighborsClassifier(algorithm='auto', leaf_size=30, metric='hamming',\n",
        "                     metric_params=None, n_jobs=None, n_neighbors=5, p=2,\n",
        "                     weights='uniform')"
      ],
      "execution_count": 51,
      "outputs": [
        {
          "output_type": "execute_result",
          "data": {
            "text/plain": [
              "KNeighborsClassifier(algorithm='auto', leaf_size=30, metric='hamming',\n",
              "                     metric_params=None, n_jobs=None, n_neighbors=5, p=2,\n",
              "                     weights='uniform')"
            ]
          },
          "metadata": {
            "tags": []
          },
          "execution_count": 51
        }
      ]
    },
    {
      "cell_type": "code",
      "metadata": {
        "id": "1fxLRJczX-Z6"
      },
      "source": [
        "y_pred = classifier.predict(x_test)"
      ],
      "execution_count": 52,
      "outputs": []
    },
    {
      "cell_type": "code",
      "metadata": {
        "colab": {
          "base_uri": "https://localhost:8080/"
        },
        "id": "QIYYXnYpYAHJ",
        "outputId": "96f30c66-1597-4325-d1ff-1aff823fc865"
      },
      "source": [
        "print (x_test)"
      ],
      "execution_count": 53,
      "outputs": [
        {
          "output_type": "stream",
          "text": [
            "[[ 2.60783035  1.23392725]\n",
            " [ 0.44043357 -0.74549772]\n",
            " [-0.45202393  0.82996297]\n",
            " [-1.08949357 -0.74549772]\n",
            " [-0.83450571 -1.18985842]\n",
            " [-0.19703607 -1.18985842]\n",
            " [-0.57951786  1.23392725]\n",
            " [ 0.18544571  0.82996297]\n",
            " [ 0.95040928  1.23392725]\n",
            " [-0.32453    -0.74549772]\n",
            " [-0.70701178 -0.74549772]]\n"
          ],
          "name": "stdout"
        }
      ]
    },
    {
      "cell_type": "code",
      "metadata": {
        "colab": {
          "base_uri": "https://localhost:8080/"
        },
        "id": "FDBkDXvMYCVq",
        "outputId": "f6e848ff-5ef6-451c-f0f1-55592b86dba5"
      },
      "source": [
        "print (y_test)"
      ],
      "execution_count": 54,
      "outputs": [
        {
          "output_type": "stream",
          "text": [
            "[1 0 1 1 1 0 1 1 1 0 1]\n"
          ],
          "name": "stdout"
        }
      ]
    },
    {
      "cell_type": "code",
      "metadata": {
        "colab": {
          "base_uri": "https://localhost:8080/"
        },
        "id": "vW9IdtT9YFjS",
        "outputId": "747a30c3-4d19-4ee1-cc6c-734537d9fc27"
      },
      "source": [
        "from sklearn.metrics import confusion_matrix\n",
        "cm = confusion_matrix(y_test, y_pred)\n",
        "print(cm)"
      ],
      "execution_count": 55,
      "outputs": [
        {
          "output_type": "stream",
          "text": [
            "[[0 3]\n",
            " [0 8]]\n"
          ],
          "name": "stdout"
        }
      ]
    },
    {
      "cell_type": "code",
      "metadata": {
        "colab": {
          "base_uri": "https://localhost:8080/",
          "height": 387
        },
        "id": "r8fIhnDcYH8A",
        "outputId": "08d76de1-c6ed-4454-caca-a79fe8f264b3"
      },
      "source": [
        "from matplotlib.colors import ListedColormap\n",
        "x_set, y_set = x_train, y_train\n",
        "x1, x2 = np.meshgrid(np.arange(start = x_set[:, 0].min() - 1, stop = x_set[:, 0].max() + 1, step = 0.01),\n",
        "                     np.arange(start = x_set[:, 1].min() - 1, stop = x_set[:, 1].max() + 1, step = 0.01))\n",
        "plt.contour(x1, x2, classifier.predict(np.array([x1.ravel(), x2.ravel()]).T).reshape(x1.shape),\n",
        "            alpha = 0.75, cmap = ListedColormap(('red', 'green')))\n",
        "plt.xlim(x1.min(), x1.max())\n",
        "plt.ylim(x2.min(), x2.max())\n",
        "for i, j in enumerate(np.unique(y_set)):\n",
        "  plt.scatter (x_set[y_set == j, 0], x_set[y_set == j, 1],\n",
        "              c = ListedColormap(('red', 'green'))(i), label = j)\n",
        "plt.title('K-NN_data-tenaga-kesejahteraan-sosial-masyarakat')\n",
        "plt.xlabel('umur')\n",
        "plt.ylabel('gaji')\n",
        "plt.legend()\n",
        "plt.show()"
      ],
      "execution_count": 56,
      "outputs": [
        {
          "output_type": "stream",
          "text": [
            "/usr/local/lib/python3.7/dist-packages/ipykernel_launcher.py:6: UserWarning: No contour levels were found within the data range.\n",
            "  \n",
            "*c* argument looks like a single numeric RGB or RGBA sequence, which should be avoided as value-mapping will have precedence in case its length matches with *x* & *y*.  Please use the *color* keyword-argument or provide a 2-D array with a single row if you intend to specify the same RGB or RGBA value for all points.\n",
            "*c* argument looks like a single numeric RGB or RGBA sequence, which should be avoided as value-mapping will have precedence in case its length matches with *x* & *y*.  Please use the *color* keyword-argument or provide a 2-D array with a single row if you intend to specify the same RGB or RGBA value for all points.\n"
          ],
          "name": "stderr"
        },
        {
          "output_type": "display_data",
          "data": {
            "image/png": "[encoded data removed]",
            "text/plain": [
              "<Figure size 432x288 with 1 Axes>"
            ]
          },
          "metadata": {
            "tags": [],
            "needs_background": "light"
          }
        }
      ]
    }
  ]
}